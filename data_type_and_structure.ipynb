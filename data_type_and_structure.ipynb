{
  "nbformat": 4,
  "nbformat_minor": 0,
  "metadata": {
    "colab": {
      "provenance": []
    },
    "kernelspec": {
      "name": "python3",
      "display_name": "Python 3"
    },
    "language_info": {
      "name": "python"
    }
  },
  "cells": [
    {
      "cell_type": "code",
      "execution_count": null,
      "metadata": {
        "id": "QY2p8WloPRPi"
      },
      "outputs": [],
      "source": []
    },
    {
      "cell_type": "markdown",
      "source": [
        "**Theoritical question**"
      ],
      "metadata": {
        "id": "F2nCo_kHVOZK"
      }
    },
    {
      "cell_type": "markdown",
      "source": [
        "1. What are data structures?\n",
        "  * Ways to store and organize data to use it efficiently.\n",
        "\n",
        "\n",
        "\n",
        "\n",
        "\n",
        "2. Mutable vs Immutable:\n",
        "\n",
        "   -  Mutable: Can change e.g., list, dict\n",
        "\n",
        "   -  Immutable: Can't change (e.g., str,tuple)\n",
        "\n",
        "3. List vs Tuple:\n",
        "\n",
        "* List:Mutable, slow, uses [ ]\n",
        "* Tuple:Immutable, fast, uses `()`\n",
        "\n",
        "\n",
        "\n",
        "4. How do dictionaries store data?\n",
        " - Using key-value pairs in a hash table.\n",
        "\n",
        "5. Why use a set over a list?\n",
        "- To remove duplicates and check values faster.\n",
        "\n",
        "6. String vs List?\n",
        "\n",
        "* String: Text, immutable\n",
        "* List:Multiple data types, mutable\n",
        "\n",
        "7. How do tuples ensure data integrity?\n",
        " - They can't be changed after creation.\n",
        "\n",
        "8. What is a hash table?\n",
        "- A system to store data using key hashing — used by dictionaries.\n",
        "\n",
        "\n",
        "9. Can lists hold different types?\n",
        " - Yes. A list can have numbers, strings, etc.\n",
        "\n",
        "10. Why are strings immutable?\n",
        " - To save memory and make them safe to use as keys.\n",
        "\n",
        "11. Dictionary vs List\n",
        "-  stores data as key-value pairs. we access data using keys. It’s fast and best for labeled data like names and ages.\n",
        "Example: {\"name\": \"Ali\", \"age\": 20}\n",
        "- List stores items in order. we access data using index numbers. It’s good for sequences.\n",
        "Example: [\"Ali\", 20]\n",
        "\n",
        "12. When use a tuple over a list?\n",
        "\n",
        "- When data shouldn’t change or as dict keys.\n",
        "\n",
        "\n",
        "13. How do sets handle duplicates?\n",
        "- They remove them automatically.\n",
        "\n",
        "14. “in” in list vs dictionary:\n",
        "\n",
        "* List: checks values\n",
        "* Dictionary: checks keys\n",
        "\n",
        "15. Can you change a tuple?\n",
        "- No, tuples are unchangeable.\n",
        "\n",
        "16. What is a nested dictionary?\n",
        "- A dictionary inside another.\n",
        "Example: Student marks by subject.\n",
        "\n",
        "17. Dictionary access time:\n",
        "- Usually O(1) (very fast).\n",
        "\n",
        "\n",
        "18. When prefer lists over dictionaries?\n",
        "- When order or index is important.\n",
        "\n",
        "19.Why are dictionaries considered unordered, and how does that affect data retrieval?\n",
        "- Dictionaries are considered unordered because they store data by keys, not positions. we can't access items by index like in a list.\n",
        "\n",
        "20. Explain the difference between a list and a dictionary in terms of data retrieval.\n",
        "- In a list, we get data by index number: list[0]\n",
        "- In a dictionary, we get data by key: dict[\"name\"]\n",
        "So, lists use positions, and dictionaries use names (keys) to retrieve data.\n"
      ],
      "metadata": {
        "id": "JtfAchumPZxs"
      }
    },
    {
      "cell_type": "markdown",
      "source": [
        "### Practical questions answer"
      ],
      "metadata": {
        "id": "_Li8XTsBU_N6"
      }
    },
    {
      "cell_type": "markdown",
      "source": [
        "1. Write a code to create a string with your name and print it"
      ],
      "metadata": {
        "id": "FS_LsXPYfadQ"
      }
    },
    {
      "cell_type": "code",
      "source": [
        "name = \"Anuj\"\n",
        "print(name)"
      ],
      "metadata": {
        "colab": {
          "base_uri": "https://localhost:8080/"
        },
        "id": "nEZeNmmQXuTF",
        "outputId": "be75b8e8-0216-4ed6-9b57-9bc7d3aae514"
      },
      "execution_count": 1,
      "outputs": [
        {
          "output_type": "stream",
          "name": "stdout",
          "text": [
            "Anuj\n"
          ]
        }
      ]
    },
    {
      "cell_type": "markdown",
      "source": [
        "2.Find the length of the string \"Hello World\""
      ],
      "metadata": {
        "id": "3UQqkanWXvHt"
      }
    },
    {
      "cell_type": "code",
      "source": [
        "string = \"Hello World\"\n",
        "print(len(string))"
      ],
      "metadata": {
        "colab": {
          "base_uri": "https://localhost:8080/"
        },
        "id": "m7uPm9PaXvYm",
        "outputId": "dfe95767-6ef1-4c16-9159-35b6198e7d2e"
      },
      "execution_count": 2,
      "outputs": [
        {
          "output_type": "stream",
          "name": "stdout",
          "text": [
            "11\n"
          ]
        }
      ]
    },
    {
      "cell_type": "markdown",
      "source": [
        "3. Slice the first 3 characters from the string \"Python Programming\""
      ],
      "metadata": {
        "id": "IEEtu5sXXvpt"
      }
    },
    {
      "cell_type": "code",
      "source": [
        "string = \"Python Programming\"\n",
        "print(string[:3])"
      ],
      "metadata": {
        "colab": {
          "base_uri": "https://localhost:8080/"
        },
        "id": "SqnoXh3hXv0H",
        "outputId": "3c394bec-19f9-490d-94da-ba0db92e0b34"
      },
      "execution_count": 3,
      "outputs": [
        {
          "output_type": "stream",
          "name": "stdout",
          "text": [
            "Pyt\n"
          ]
        }
      ]
    },
    {
      "cell_type": "markdown",
      "source": [
        "4. Convert the string \"hello\" to uppercase."
      ],
      "metadata": {
        "id": "0wWQTfQjXv8M"
      }
    },
    {
      "cell_type": "code",
      "source": [
        "string = \"hello\"\n",
        "print(string.upper())"
      ],
      "metadata": {
        "colab": {
          "base_uri": "https://localhost:8080/"
        },
        "id": "roIptHwiXwD8",
        "outputId": "916abac8-e084-4f39-e0de-19693690bad9"
      },
      "execution_count": 4,
      "outputs": [
        {
          "output_type": "stream",
          "name": "stdout",
          "text": [
            "HELLO\n"
          ]
        }
      ]
    },
    {
      "cell_type": "markdown",
      "source": [
        "5. Replace the word \"apple\" with \"orange\" in the string \"I like apple\"\n",
        "\n"
      ],
      "metadata": {
        "id": "RM3gYk0FXwL0"
      }
    },
    {
      "cell_type": "code",
      "source": [
        "string = \"I like apple\"\n",
        "print(string.replace(\"apple\", \"orange\"))"
      ],
      "metadata": {
        "colab": {
          "base_uri": "https://localhost:8080/"
        },
        "id": "jhOmv3SqXwS0",
        "outputId": "4272057d-4247-4110-9c2c-ac69f6306dde"
      },
      "execution_count": 5,
      "outputs": [
        {
          "output_type": "stream",
          "name": "stdout",
          "text": [
            "I like orange\n"
          ]
        }
      ]
    },
    {
      "cell_type": "markdown",
      "source": [
        " 6. Create a list with numbers 1 to 5 and print it:"
      ],
      "metadata": {
        "id": "YhQiZEBeXwa0"
      }
    },
    {
      "cell_type": "code",
      "source": [
        "numbers = [1, 2, 3, 4, 5]\n",
        "print(numbers)"
      ],
      "metadata": {
        "colab": {
          "base_uri": "https://localhost:8080/"
        },
        "id": "lCO_h2NnXwht",
        "outputId": "8cb677d2-b8eb-4698-fca6-ee5b8f4bb6fc"
      },
      "execution_count": 6,
      "outputs": [
        {
          "output_type": "stream",
          "name": "stdout",
          "text": [
            "[1, 2, 3, 4, 5]\n"
          ]
        }
      ]
    },
    {
      "cell_type": "markdown",
      "source": [
        "7. Append the number 10 to the list [1, 2, 3, 4]"
      ],
      "metadata": {
        "id": "sX1OUvXqXwpl"
      }
    },
    {
      "cell_type": "code",
      "source": [
        "numbers = [1, 2, 3, 4]\n",
        "numbers.append(10)\n",
        "print(numbers)"
      ],
      "metadata": {
        "colab": {
          "base_uri": "https://localhost:8080/"
        },
        "id": "s_R-up4VXwxm",
        "outputId": "a53a7b96-191a-4e9d-b5a3-ddf670ac5639"
      },
      "execution_count": 7,
      "outputs": [
        {
          "output_type": "stream",
          "name": "stdout",
          "text": [
            "[1, 2, 3, 4, 10]\n"
          ]
        }
      ]
    },
    {
      "cell_type": "markdown",
      "source": [
        "8. Remove the number 3 from the list [1,2,3,4,5]"
      ],
      "metadata": {
        "id": "C84TTC1ZXw4d"
      }
    },
    {
      "cell_type": "code",
      "source": [
        "numbers = [1, 2, 3, 4, 5]\n",
        "numbers.remove(3)\n",
        "print(numbers)"
      ],
      "metadata": {
        "colab": {
          "base_uri": "https://localhost:8080/"
        },
        "id": "p_gEQnBGaIsZ",
        "outputId": "48f52067-ff45-44c5-e8ce-7ad5bb9a2acb"
      },
      "execution_count": 10,
      "outputs": [
        {
          "output_type": "stream",
          "name": "stdout",
          "text": [
            "[1, 2, 4, 5]\n"
          ]
        }
      ]
    },
    {
      "cell_type": "markdown",
      "source": [
        "9. Access the second element in the list \\['a', 'b', 'c', 'd']"
      ],
      "metadata": {
        "id": "i66SINtcXxGT"
      }
    },
    {
      "cell_type": "code",
      "source": [
        "letters = ['a', 'b', 'c', 'd']\n",
        "print(letters[1])"
      ],
      "metadata": {
        "colab": {
          "base_uri": "https://localhost:8080/"
        },
        "id": "WpsIoatmXxNU",
        "outputId": "48a3b275-f34d-45a8-e410-eb3696e3adab"
      },
      "execution_count": 11,
      "outputs": [
        {
          "output_type": "stream",
          "name": "stdout",
          "text": [
            "b\n"
          ]
        }
      ]
    },
    {
      "cell_type": "markdown",
      "source": [
        "10. Reverse the list \\[10, 20, 30, 40, 50]"
      ],
      "metadata": {
        "id": "yy8_6Wy-XxWs"
      }
    },
    {
      "cell_type": "code",
      "source": [
        "numbers = [10, 20, 30, 40, 50]\n",
        "numbers.reverse()\n",
        "print(numbers)"
      ],
      "metadata": {
        "colab": {
          "base_uri": "https://localhost:8080/"
        },
        "id": "yA2B3aElXxcv",
        "outputId": "c10b7351-e51c-40ea-d7d8-2b94e5bc71e8"
      },
      "execution_count": 13,
      "outputs": [
        {
          "output_type": "stream",
          "name": "stdout",
          "text": [
            "[50, 40, 30, 20, 10]\n"
          ]
        }
      ]
    },
    {
      "cell_type": "markdown",
      "source": [
        "11. Create a tuple with the elements 100, 200, 300 and print it"
      ],
      "metadata": {
        "id": "IeaqIl8MXxlt"
      }
    },
    {
      "cell_type": "code",
      "source": [
        "my_tuple = (100, 200, 300)"
      ],
      "metadata": {
        "id": "Bix8QOJlXxsm"
      },
      "execution_count": 14,
      "outputs": []
    },
    {
      "cell_type": "markdown",
      "source": [
        "12. Access the second-to-last element of the tuple ('red', 'green', 'blue', 'yellow')"
      ],
      "metadata": {
        "id": "NS4l_8_tXx1g"
      }
    },
    {
      "cell_type": "code",
      "source": [
        "my_tuple = ('red', 'green', 'blue', 'yellow')\n",
        "print(my_tuple[-2])"
      ],
      "metadata": {
        "colab": {
          "base_uri": "https://localhost:8080/"
        },
        "id": "uybVC0zKXx7-",
        "outputId": "f6caedd5-0d1a-4379-a56f-56ab897ec6ab"
      },
      "execution_count": 15,
      "outputs": [
        {
          "output_type": "stream",
          "name": "stdout",
          "text": [
            "blue\n"
          ]
        }
      ]
    },
    {
      "cell_type": "markdown",
      "source": [
        "13. Find the minimum number in the tuple (10, 20, 5, 15)"
      ],
      "metadata": {
        "id": "ZCcsUmAoXyEE"
      }
    },
    {
      "cell_type": "code",
      "source": [
        "my_tuple = (10, 20, 5, 15)\n",
        "print(min(my_tuple))"
      ],
      "metadata": {
        "colab": {
          "base_uri": "https://localhost:8080/"
        },
        "id": "bWnwhHjtXyKE",
        "outputId": "1b6c72cb-6ab2-475a-dcf7-994b696cf4a8"
      },
      "execution_count": 16,
      "outputs": [
        {
          "output_type": "stream",
          "name": "stdout",
          "text": [
            "5\n"
          ]
        }
      ]
    },
    {
      "cell_type": "markdown",
      "source": [
        "14. Find the index of the element \"cat\" in the tuple ('dog', 'cat', 'rabbit')"
      ],
      "metadata": {
        "id": "PDddztpNXyaF"
      }
    },
    {
      "cell_type": "code",
      "source": [
        "my_tuple = ('dog', 'cat', 'rabbit')\n",
        "print(my_tuple.index(\"cat\"))"
      ],
      "metadata": {
        "colab": {
          "base_uri": "https://localhost:8080/"
        },
        "id": "S4nbFsESXyg2",
        "outputId": "9a46e7b3-a3d5-46ba-ca60-423d09e9e450"
      },
      "execution_count": 17,
      "outputs": [
        {
          "output_type": "stream",
          "name": "stdout",
          "text": [
            "1\n"
          ]
        }
      ]
    },
    {
      "cell_type": "markdown",
      "source": [
        "15. Create a tuple containing three different fruits and check if \"kiwi\" is in it"
      ],
      "metadata": {
        "id": "l-NEvtv7Vfqq"
      }
    },
    {
      "cell_type": "code",
      "source": [
        "fruits = ('apple', 'banana', 'orange')\n",
        "print(\"kiwi\" in fruits)"
      ],
      "metadata": {
        "colab": {
          "base_uri": "https://localhost:8080/"
        },
        "id": "PYFRWum1b0en",
        "outputId": "3b6f3c91-bafa-4d6c-eaef-0b84203d6e00"
      },
      "execution_count": 18,
      "outputs": [
        {
          "output_type": "stream",
          "name": "stdout",
          "text": [
            "False\n"
          ]
        }
      ]
    },
    {
      "cell_type": "markdown",
      "source": [
        "16. Create a set with the elements 'a', 'b', 'c' and print it"
      ],
      "metadata": {
        "id": "7ytd0oJab04v"
      }
    },
    {
      "cell_type": "code",
      "source": [
        "my_set = {'a', 'b', 'c'}\n",
        "print(my_set)"
      ],
      "metadata": {
        "colab": {
          "base_uri": "https://localhost:8080/"
        },
        "id": "9udsQoZJb1CY",
        "outputId": "42a36aba-1bfc-4922-ae67-55b4503e04c1"
      },
      "execution_count": 19,
      "outputs": [
        {
          "output_type": "stream",
          "name": "stdout",
          "text": [
            "{'b', 'c', 'a'}\n"
          ]
        }
      ]
    },
    {
      "cell_type": "markdown",
      "source": [
        "17. Clear all elements from the set {1, 2, 3, 4, 5}"
      ],
      "metadata": {
        "id": "E01iGCxMb1LA"
      }
    },
    {
      "cell_type": "code",
      "source": [
        "my_set = {1, 2, 3, 4, 5}\n",
        "my_set.clear()\n",
        "print(my_set)"
      ],
      "metadata": {
        "colab": {
          "base_uri": "https://localhost:8080/"
        },
        "id": "r0NSmSf-b1Rz",
        "outputId": "3654630c-ecf0-4a6f-e1b2-8da87866c7ed"
      },
      "execution_count": 20,
      "outputs": [
        {
          "output_type": "stream",
          "name": "stdout",
          "text": [
            "set()\n"
          ]
        }
      ]
    },
    {
      "cell_type": "markdown",
      "source": [
        "18. Remove the element 4 from the set {1, 2, 3, 4}"
      ],
      "metadata": {
        "id": "nNeJTrZUb1Y2"
      }
    },
    {
      "cell_type": "code",
      "source": [
        "my_set = {1, 2, 3, 4}\n",
        "my_set.remove(4)\n",
        "print(my_set)"
      ],
      "metadata": {
        "colab": {
          "base_uri": "https://localhost:8080/"
        },
        "id": "0020p63Ob1fR",
        "outputId": "a5674493-f204-4016-c40e-307f101617c7"
      },
      "execution_count": 21,
      "outputs": [
        {
          "output_type": "stream",
          "name": "stdout",
          "text": [
            "{1, 2, 3}\n"
          ]
        }
      ]
    },
    {
      "cell_type": "markdown",
      "source": [
        "19. Find the union of two sets {1, 2, 3} and {3, 4, 5}"
      ],
      "metadata": {
        "id": "KzdMXWIlb1lm"
      }
    },
    {
      "cell_type": "code",
      "source": [
        "set1 = {1, 2, 3}\n",
        "set2 = {3, 4, 5}\n",
        "print(set1.union(set2))"
      ],
      "metadata": {
        "colab": {
          "base_uri": "https://localhost:8080/"
        },
        "id": "rfbNJyOEb1sF",
        "outputId": "0ea16f38-7d84-4de5-c26b-b67a5ed82fcd"
      },
      "execution_count": 22,
      "outputs": [
        {
          "output_type": "stream",
          "name": "stdout",
          "text": [
            "{1, 2, 3, 4, 5}\n"
          ]
        }
      ]
    },
    {
      "cell_type": "markdown",
      "source": [
        "20. Find the intersection of two sets {1, 2, 3} and {2, 3, 4}"
      ],
      "metadata": {
        "id": "Sc01GJ5Tb1zW"
      }
    },
    {
      "cell_type": "code",
      "source": [
        "set1 = {1, 2, 3}\n",
        "set2 = {2, 3, 4}\n",
        "print(set1.intersection(set2))"
      ],
      "metadata": {
        "colab": {
          "base_uri": "https://localhost:8080/"
        },
        "id": "Wv_ByDMTb16D",
        "outputId": "e2faa30f-98dc-4ea3-b59b-63386b38a1f0"
      },
      "execution_count": 23,
      "outputs": [
        {
          "output_type": "stream",
          "name": "stdout",
          "text": [
            "{2, 3}\n"
          ]
        }
      ]
    },
    {
      "cell_type": "markdown",
      "source": [
        "21. Create a dictionary with the keys \"name\", \"age\", and \"city\", and print it\n"
      ],
      "metadata": {
        "id": "mjZ6v2LAb2A8"
      }
    },
    {
      "cell_type": "code",
      "source": [
        "my_dict = {\"name\": \"John\", \"age\": 30, \"city\": \"New York\"}\n",
        "print(my_dict)"
      ],
      "metadata": {
        "colab": {
          "base_uri": "https://localhost:8080/"
        },
        "id": "kkk9S11Eb2HR",
        "outputId": "ed74e58d-0c27-4afd-cbfe-acc90f87e6da"
      },
      "execution_count": 24,
      "outputs": [
        {
          "output_type": "stream",
          "name": "stdout",
          "text": [
            "{'name': 'John', 'age': 30, 'city': 'New York'}\n"
          ]
        }
      ]
    },
    {
      "cell_type": "markdown",
      "source": [
        "22. Add a new key-value pair \"country\": \"USA\" to the dictionary {'name': 'John', 'age': 25}"
      ],
      "metadata": {
        "id": "YzUc4LJNb2Nw"
      }
    },
    {
      "cell_type": "code",
      "source": [
        "my_dict = {'name': 'John', 'age': 25}\n",
        "my_dict['country'] = 'USA'\n",
        "print(my_dict)"
      ],
      "metadata": {
        "colab": {
          "base_uri": "https://localhost:8080/"
        },
        "id": "e7qCOkf4b2Tl",
        "outputId": "e074cfe1-157c-46e0-9bd3-27acf0685006"
      },
      "execution_count": 25,
      "outputs": [
        {
          "output_type": "stream",
          "name": "stdout",
          "text": [
            "{'name': 'John', 'age': 25, 'country': 'USA'}\n"
          ]
        }
      ]
    },
    {
      "cell_type": "markdown",
      "source": [
        "23. Access the value associated with the key \"name\" in the dictionary {'name': 'Alice', 'age': 30}"
      ],
      "metadata": {
        "id": "nuw__TbXb2aw"
      }
    },
    {
      "cell_type": "code",
      "source": [
        "my_dict = {'name': 'Alice', 'age': 30}\n",
        "print(my_dict['name'])"
      ],
      "metadata": {
        "colab": {
          "base_uri": "https://localhost:8080/"
        },
        "id": "svtmUv4Lb2gO",
        "outputId": "7ca7d0de-ffb1-4165-e894-e916fc6091f1"
      },
      "execution_count": 26,
      "outputs": [
        {
          "output_type": "stream",
          "name": "stdout",
          "text": [
            "Alice\n"
          ]
        }
      ]
    },
    {
      "cell_type": "markdown",
      "source": [
        "24. Remove the key \"age\" from the dictionary {'name': 'Bob', 'age': 22, 'city': 'New York'}"
      ],
      "metadata": {
        "id": "CjUj29wZb2qI"
      }
    },
    {
      "cell_type": "code",
      "source": [
        "my_dict = {'name': 'Bob', 'age': 22, 'city': 'New York'}\n",
        "del my_dict['age']\n",
        "print(my_dict)"
      ],
      "metadata": {
        "colab": {
          "base_uri": "https://localhost:8080/"
        },
        "id": "OU3YPJsjb2vg",
        "outputId": "25281aa1-0dae-4736-b2b9-3faedd06dc6e"
      },
      "execution_count": 27,
      "outputs": [
        {
          "output_type": "stream",
          "name": "stdout",
          "text": [
            "{'name': 'Bob', 'city': 'New York'}\n"
          ]
        }
      ]
    },
    {
      "cell_type": "markdown",
      "source": [
        "25. Check if the key \"city\" exists in the dictionary {'name': 'Alice', 'city': 'Paris'}"
      ],
      "metadata": {
        "id": "ZNY12mPqdkOl"
      }
    },
    {
      "cell_type": "code",
      "source": [
        "my_dict = {'name': 'Alice', 'city': 'Paris'}\n",
        "print(\"city\" in my_dict)"
      ],
      "metadata": {
        "colab": {
          "base_uri": "https://localhost:8080/"
        },
        "id": "lbMstraMdixU",
        "outputId": "f18ecaff-1523-4899-fc3f-d1ac0488a8fc"
      },
      "execution_count": 28,
      "outputs": [
        {
          "output_type": "stream",
          "name": "stdout",
          "text": [
            "True\n"
          ]
        }
      ]
    },
    {
      "cell_type": "markdown",
      "source": [
        "26. Create a list, a tuple, and a dictionary, and print them all"
      ],
      "metadata": {
        "id": "XCyjpOXQdjeL"
      }
    },
    {
      "cell_type": "code",
      "source": [
        "my_list = [1, 2, 3]\n",
        "my_tuple = (4, 5, 6)\n",
        "my_dict = {'name': 'Alice', 'age': 30}\n",
        "\n",
        "print(my_list)\n",
        "print(my_tuple)\n",
        "print(my_dict)"
      ],
      "metadata": {
        "colab": {
          "base_uri": "https://localhost:8080/"
        },
        "id": "A4u-zeoTdmML",
        "outputId": "82f33f1b-cea5-408a-8d7e-fa2e0a05172c"
      },
      "execution_count": 29,
      "outputs": [
        {
          "output_type": "stream",
          "name": "stdout",
          "text": [
            "[1, 2, 3]\n",
            "(4, 5, 6)\n",
            "{'name': 'Alice', 'age': 30}\n"
          ]
        }
      ]
    },
    {
      "cell_type": "markdown",
      "source": [
        "27. Create a list of 5 random numbers between 1 and 100, sort it in ascending order, and print the result"
      ],
      "metadata": {
        "id": "1DmUy9Xydmek"
      }
    },
    {
      "cell_type": "code",
      "source": [
        "import random\n",
        "random_list = random.sample(range(1, 101), 5)\n",
        "random_list.sort()\n",
        "print(random_list)"
      ],
      "metadata": {
        "colab": {
          "base_uri": "https://localhost:8080/"
        },
        "id": "M36T65nAdmoz",
        "outputId": "2879f300-99af-4fbe-8197-e2a78a3fb341"
      },
      "execution_count": 30,
      "outputs": [
        {
          "output_type": "stream",
          "name": "stdout",
          "text": [
            "[21, 58, 67, 95, 98]\n"
          ]
        }
      ]
    },
    {
      "cell_type": "markdown",
      "source": [
        "28. Create a list with strings and print the element at the third index"
      ],
      "metadata": {
        "id": "NonmcfhPdmvg"
      }
    },
    {
      "cell_type": "code",
      "source": [
        "my_list = [\"apple\", \"banana\", \"cherry\", \"date\", \"elderberry\"]\n",
        "print(my_list[3])"
      ],
      "metadata": {
        "colab": {
          "base_uri": "https://localhost:8080/"
        },
        "id": "6jQMbkEpdm2u",
        "outputId": "6e91fa75-68d2-4349-d146-d8d84d99faa0"
      },
      "execution_count": 31,
      "outputs": [
        {
          "output_type": "stream",
          "name": "stdout",
          "text": [
            "date\n"
          ]
        }
      ]
    },
    {
      "cell_type": "markdown",
      "source": [
        "29. Combine two dictionaries into one and print the result"
      ],
      "metadata": {
        "id": "npPQbsMtdm9D"
      }
    },
    {
      "cell_type": "code",
      "source": [
        "dict1 = {\"name\": \"John\", \"age\": 25}\n",
        "dict2 = {\"city\": \"New York\", \"job\": \"Developer\"}\n",
        "combined_dict = {**dict1, **dict2}\n",
        "print(combined_dict)"
      ],
      "metadata": {
        "colab": {
          "base_uri": "https://localhost:8080/"
        },
        "id": "oKMuc66AdnFT",
        "outputId": "0527208d-69dd-4158-8dd8-b124a1d92cf5"
      },
      "execution_count": 32,
      "outputs": [
        {
          "output_type": "stream",
          "name": "stdout",
          "text": [
            "{'name': 'John', 'age': 25, 'city': 'New York', 'job': 'Developer'}\n"
          ]
        }
      ]
    },
    {
      "cell_type": "markdown",
      "source": [
        "30. Convert a list of strings into a set"
      ],
      "metadata": {
        "id": "vmj8ZQWEe8np"
      }
    },
    {
      "cell_type": "code",
      "source": [
        "string_list = [\"apple\", \"banana\", \"cherry\", \"apple\"]\n",
        "string_set = set(string_list)\n",
        "print(string_set)\n"
      ],
      "metadata": {
        "colab": {
          "base_uri": "https://localhost:8080/"
        },
        "id": "6lNUw0BTe85x",
        "outputId": "662eabc6-cffe-4ac8-defa-c5ceb6398a7b"
      },
      "execution_count": 33,
      "outputs": [
        {
          "output_type": "stream",
          "name": "stdout",
          "text": [
            "{'banana', 'apple', 'cherry'}\n"
          ]
        }
      ]
    },
    {
      "cell_type": "markdown",
      "source": [],
      "metadata": {
        "id": "8Ab6ISNCdnM7"
      }
    }
  ]
}